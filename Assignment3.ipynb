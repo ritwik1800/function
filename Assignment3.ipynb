{
  "nbformat": 4,
  "nbformat_minor": 0,
  "metadata": {
    "colab": {
      "provenance": []
    },
    "kernelspec": {
      "name": "python3",
      "display_name": "Python 3"
    },
    "language_info": {
      "name": "python"
    }
  },
  "cells": [
    {
      "cell_type": "code",
      "execution_count": null,
      "metadata": {
        "id": "r1bAJkub-b8t"
      },
      "outputs": [],
      "source": []
    },
    {
      "cell_type": "markdown",
      "source": [],
      "metadata": {
        "id": "0IPdW8uA_nwr"
      }
    },
    {
      "cell_type": "markdown",
      "source": [
        "1. What is difference between a function and method in Python ?\n",
        "\n",
        "* Function: A block of code that is defined using def and can be called independently.\n",
        "* Method: A function that is associated with an object and called using dot (.) notation.\n",
        "\n",
        "\n",
        "2.  Explain the concept of function arguments and parameters in Python.\n",
        "\n",
        "* Parameters: Variables listed in a function’s definition.\n",
        "* Arguments: Actual values passed to the function when calling it.\n",
        "\n",
        "\n",
        "3. What are the different ways to define and call a function in Python?\n",
        "* Define: Using def, or lambda for anonymous functions.\n",
        "* Call: By function name followed by parentheses and arguments.\n",
        "\n",
        "4. What is the purpose of the return statement in a Python function?\n",
        "* It sends a value back to the caller and exits the function.\n",
        "\n",
        "5.  What are iterators in Python and how do they differ from iterables?\n",
        "* Iterable: Any object that can return an iterator (e.g., list, tuple).\n",
        "* Iterator: An object with iter() and next() methods.\n",
        "\n",
        "6. Write a Python function that takes a list of numbers as input and returns the sum of all even numbers in the list."
      ],
      "metadata": {
        "id": "tg6j9Scy-qQj"
      }
    },
    {
      "cell_type": "code",
      "source": [
        "\n",
        "...\n",
        "def sum_even_numbers(numbers):\n",
        "return sum(num for num in numbers if num % 2 == 0)\n",
        "print(sum_even_numbers([1, 2, 3, 4, 5, 6]))\n",
        "...\n"
      ],
      "metadata": {
        "colab": {
          "base_uri": "https://localhost:8080/",
          "height": 106
        },
        "id": "3AeKUOV8E0mc",
        "outputId": "f0ab5543-db3a-4e39-8ed9-dd2aa4c86113"
      },
      "execution_count": 2,
      "outputs": [
        {
          "output_type": "error",
          "ename": "SyntaxError",
          "evalue": "invalid syntax (<ipython-input-2-1513380a3edd>, line 2)",
          "traceback": [
            "\u001b[0;36m  File \u001b[0;32m\"<ipython-input-2-1513380a3edd>\"\u001b[0;36m, line \u001b[0;32m2\u001b[0m\n\u001b[0;31m    even numbers in the list.\u001b[0m\n\u001b[0m         ^\u001b[0m\n\u001b[0;31mSyntaxError\u001b[0m\u001b[0;31m:\u001b[0m invalid syntax\n"
          ]
        }
      ]
    }
  ]
}