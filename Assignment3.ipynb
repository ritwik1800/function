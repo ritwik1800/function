{
  "nbformat": 4,
  "nbformat_minor": 0,
  "metadata": {
    "colab": {
      "provenance": []
    },
    "kernelspec": {
      "name": "python3",
      "display_name": "Python 3"
    },
    "language_info": {
      "name": "python"
    }
  },
  "cells": [
    {
      "cell_type": "code",
      "execution_count": null,
      "metadata": {
        "id": "r1bAJkub-b8t"
      },
      "outputs": [],
      "source": []
    },
    {
      "cell_type": "markdown",
      "source": [],
      "metadata": {
        "id": "0IPdW8uA_nwr"
      }
    },
    {
      "cell_type": "markdown",
      "source": [
        "1. What is difference between a function and method in Python ?\n",
        "\n",
        "* Function: A block of code that is defined using def and can be called independently.\n",
        "* Method: A function that is associated with an object and called using dot (.) notation.\n",
        "\n",
        "\n",
        "2.  Explain the concept of function arguments and parameters in Python.\n",
        "\n",
        "* Parameters: Variables listed in a function’s definition.\n",
        "* Arguments: Actual values passed to the function when calling it.\n",
        "\n",
        "\n",
        "3. What are the different ways to define and call a function in Python?\n",
        "* Define: Using def, or lambda for anonymous functions.\n",
        "* Call: By function name followed by parentheses and arguments.\n",
        "\n",
        "4. What is the purpose of the return statement in a Python function?\n",
        "* It sends a value back to the caller and exits the function.\n",
        "\n",
        "5.  What are iterators in Python and how do they differ from iterables?\n",
        "* Iterable: Any object that can return an iterator (e.g., list, tuple).\n",
        "* Iterator: An object with iter() and next() methods.\n",
        "\n",
        "6. Write a Python function that takes a list of numbers as input and returns the sum of all even numbers in the list."
      ],
      "metadata": {
        "id": "tg6j9Scy-qQj"
      }
    },
    {
      "cell_type": "code",
      "source": [
        "# Code\n",
        "def sum_even_numbers(numbers):\n",
        "    return sum(num for num in numbers if num % 2 == 0)\n",
        "print(sum_even_numbers([1, 2, 3, 4, 5, 6]))"
      ],
      "metadata": {
        "colab": {
          "base_uri": "https://localhost:8080/"
        },
        "id": "3AeKUOV8E0mc",
        "outputId": "db035aec-0928-4988-e3f7-d86ab8e2c70f"
      },
      "execution_count": 9,
      "outputs": [
        {
          "output_type": "stream",
          "name": "stdout",
          "text": [
            "12\n"
          ]
        }
      ]
    }
  ]
}